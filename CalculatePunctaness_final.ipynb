{
 "cells": [
  {
   "cell_type": "code",
   "execution_count": null,
   "metadata": {},
   "outputs": [],
   "source": [
    "import numpy as np\n",
    "import matplotlib.pyplot as plt\n",
    "from mpl_toolkits.mplot3d import Axes3D\n",
    "from scipy import ndimage as ndi\n",
    "from skimage.feature import shape_index, match_template\n",
    "from skimage.draw import circle\n",
    "import skimage.io as io\n",
    "from skimage.morphology import erosion, dilation, opening, closing, white_tophat, black_tophat, skeletonize, convex_hull_image, disk\n",
    "from scipy.ndimage.morphology import distance_transform_bf\n",
    "from skimage.exposure import rescale_intensity\n",
    "\n",
    "%matplotlib inline\n",
    "\n",
    "#This function compares two images for visualization purposes\n",
    "#Params\n",
    "    # original, image 2d ndarray\n",
    "    # filtered, image 2d ndarray\n",
    "    # filter_name, string\n",
    "def plot_comparion(original, filtered, filter_name):\n",
    "    fig, (ax1, ax2) = plt.subplots(ncols=2,figsize=(16,16),sharex=True,sharey=True)\n",
    "    \n",
    "    ax1.imshow(original)\n",
    "    ax1.set_title('Original')\n",
    "    ax1.axis('off')\n",
    "    ax2.imshow(filtered)\n",
    "    ax2.set_title(filter_name)\n",
    "    ax2.axis('off')"
   ]
  },
  {
   "cell_type": "code",
   "execution_count": 1,
   "metadata": {},
   "outputs": [],
   "source": [
    "#This function accepts and image and calculates the degree of punctaness in the image\n",
    "#Params \n",
    "    #filename, string path to image file\n",
    "    #radii, int, determines the disk size for the wth algorithm. See scikit-image morphological filtering tutorial\n",
    "    # thresh, int, sets global threshold for background and foreground objects. Can be imporoved by making local thresholding\n",
    "    #Output, int the geometric sum of all pixel intensities considered puncta\n",
    "def measure_punctaness(filename,radii,thresh): #Threshold should be a low number, less than 10\n",
    "    image = io.imread(filename)\n",
    "    image = rescale_intensity(image,in_range='image')\n",
    "    cell = disk(radii)\n",
    "    opened = opening(image,cell) #erosion followed by dilation\n",
    "    wth = image - opened #definition of tophat function\n",
    "    mask = wth<thresh\n",
    "    wth[mask] = 0\n",
    "    sum2 = np.sum(wth)\n",
    "    return sum2\n",
    "\n",
    "#This Block will name all the bf channels\n",
    "fbaselist = ['C4_LAMMDAS_dopamine_WTXY','C5_LAMMDAS_dopamine_A53TXY','C6_LAMMDAS_dopamine_A30PXY','C7_LAMMDAS_dopamine_E46KXY',\\\n",
    "            'C8_LAMMDAS_dopamine_gfpXY','E4_LAMMDAS_apo_WTXY','E5_LAMMDAS_apo_A53TXY','E6_LAMMDAS_apo_A30PXY','E7_LAMMDAS_apo_E46KXY',\\\n",
    "            'E8_LAMMDAS_apo_gfpXY']\n",
    "\n",
    "#Parameters Used disk raddi = 16, threshold = 10\n",
    "#This script calculates the punctaness for each input image and writes it to a an ouput file.\n",
    "#It calculates the punctaness for each image in a 5 image stack for a given condition\n",
    "def write_puncta():\n",
    "    fpath = '/Users/ajipalar/Documents/UCSF/Classes/PUBS/LAMMDAS/Microscopy/20181002_160910_824/nd2as8bit/'\n",
    "    output_fname = '/Users/ajipalar/Documents/UCSF/Classes/PUBS/LAMMDAS/Microscopy/20181002_160910_824/OutputData/punctaness.txt'\n",
    "    output_file = open(output_fname, 'w')\n",
    "    for fbase in fbaselist[0:3]:\n",
    "        for stack in range(1,6):\n",
    "            fname = fbase+str(stack)+'C1.jp2'\n",
    "            fullpath = fpath+fname\n",
    "            punctaness = measure_punctaness(fullpath,16,10)\n",
    "            output_file.write(fname + ', ' + str(punctaness))"
   ]
  }
 ],
 "metadata": {
  "kernelspec": {
   "display_name": "Python 3",
   "language": "python",
   "name": "python3"
  },
  "language_info": {
   "codemirror_mode": {
    "name": "ipython",
    "version": 3
   },
   "file_extension": ".py",
   "mimetype": "text/x-python",
   "name": "python",
   "nbconvert_exporter": "python",
   "pygments_lexer": "ipython3",
   "version": "3.7.0"
  }
 },
 "nbformat": 4,
 "nbformat_minor": 2
}
